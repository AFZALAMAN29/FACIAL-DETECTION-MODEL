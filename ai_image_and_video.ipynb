{
 "cells": [
  {
   "cell_type": "code",
   "execution_count": 1,
   "id": "a8b89e83",
   "metadata": {},
   "outputs": [],
   "source": [
    "import cv2\n"
   ]
  },
  {
   "cell_type": "code",
   "execution_count": 2,
   "id": "ee89c64e",
   "metadata": {},
   "outputs": [],
   "source": [
    "cap=cv2.VideoCapture(0)"
   ]
  },
  {
   "cell_type": "code",
   "execution_count": 3,
   "id": "9f178881",
   "metadata": {},
   "outputs": [],
   "source": [
    "ret,photo=cap.read()"
   ]
  },
  {
   "cell_type": "code",
   "execution_count": 4,
   "id": "eaa7af5d",
   "metadata": {},
   "outputs": [
    {
     "data": {
      "text/plain": [
       "True"
      ]
     },
     "execution_count": 4,
     "metadata": {},
     "output_type": "execute_result"
    }
   ],
   "source": [
    "ret"
   ]
  },
  {
   "cell_type": "code",
   "execution_count": 5,
   "id": "2a8e69a0",
   "metadata": {},
   "outputs": [],
   "source": [
    "cv2.imshow(\"any name you can give\",photo)\n",
    "cv2.waitKey()\n",
    "cv2.destroyAllWindows()"
   ]
  },
  {
   "cell_type": "code",
   "execution_count": 6,
   "id": "2ca70ee9",
   "metadata": {},
   "outputs": [
    {
     "data": {
      "text/plain": [
       "array([[[45, 73, 97],\n",
       "        [46, 74, 95],\n",
       "        [44, 73, 90],\n",
       "        ...,\n",
       "        [38, 69, 81],\n",
       "        [37, 67, 82],\n",
       "        [36, 64, 81]],\n",
       "\n",
       "       [[42, 72, 94],\n",
       "        [43, 72, 92],\n",
       "        [44, 74, 90],\n",
       "        ...,\n",
       "        [37, 69, 81],\n",
       "        [39, 69, 84],\n",
       "        [39, 68, 85]],\n",
       "\n",
       "       [[38, 71, 89],\n",
       "        [40, 73, 89],\n",
       "        [43, 75, 88],\n",
       "        ...,\n",
       "        [36, 69, 79],\n",
       "        [38, 70, 83],\n",
       "        [40, 70, 84]],\n",
       "\n",
       "       ...,\n",
       "\n",
       "       [[10, 37, 34],\n",
       "        [11, 38, 35],\n",
       "        [11, 38, 35],\n",
       "        ...,\n",
       "        [ 5, 11,  6],\n",
       "        [ 3,  9,  4],\n",
       "        [ 2,  8,  3]],\n",
       "\n",
       "       [[12, 38, 35],\n",
       "        [12, 38, 35],\n",
       "        [11, 37, 34],\n",
       "        ...,\n",
       "        [ 5, 11,  6],\n",
       "        [ 3,  9,  4],\n",
       "        [ 4, 10,  5]],\n",
       "\n",
       "       [[12, 36, 34],\n",
       "        [12, 37, 34],\n",
       "        [11, 36, 32],\n",
       "        ...,\n",
       "        [ 2,  8,  3],\n",
       "        [ 1,  7,  2],\n",
       "        [ 2,  8,  3]]], dtype=uint8)"
      ]
     },
     "execution_count": 6,
     "metadata": {},
     "output_type": "execute_result"
    }
   ],
   "source": [
    "photo"
   ]
  },
  {
   "cell_type": "code",
   "execution_count": 6,
   "id": "4d1bd002",
   "metadata": {},
   "outputs": [
    {
     "data": {
      "text/plain": [
       "array([[[ 63,  90,  80],\n",
       "        [ 64,  93,  81],\n",
       "        [ 66,  96,  84],\n",
       "        ...,\n",
       "        [104, 120, 119],\n",
       "        [106, 124, 124],\n",
       "        [103, 123, 124]],\n",
       "\n",
       "       [[ 63,  91,  81],\n",
       "        [ 64,  92,  82],\n",
       "        [ 65,  95,  83],\n",
       "        ...,\n",
       "        [ 99, 117, 114],\n",
       "        [101, 121, 120],\n",
       "        [ 97, 118, 118]],\n",
       "\n",
       "       [[ 65,  94,  85],\n",
       "        [ 65,  94,  84],\n",
       "        [ 64,  95,  84],\n",
       "        ...,\n",
       "        [ 98, 118, 113],\n",
       "        [ 99, 121, 119],\n",
       "        [ 95, 118, 117]],\n",
       "\n",
       "       ...,\n",
       "\n",
       "       [[  6,  17,  31],\n",
       "        [  7,  18,  32],\n",
       "        [  7,  18,  32],\n",
       "        ...,\n",
       "        [ 24,  31,  24],\n",
       "        [ 27,  35,  28],\n",
       "        [ 24,  32,  26]],\n",
       "\n",
       "       [[  6,  17,  31],\n",
       "        [  6,  17,  31],\n",
       "        [  7,  18,  32],\n",
       "        ...,\n",
       "        [ 20,  27,  19],\n",
       "        [ 24,  31,  24],\n",
       "        [ 24,  31,  24]],\n",
       "\n",
       "       [[  5,  16,  30],\n",
       "        [  6,  17,  31],\n",
       "        [  7,  18,  32],\n",
       "        ...,\n",
       "        [ 16,  23,  15],\n",
       "        [ 18,  25,  17],\n",
       "        [ 21,  28,  21]]], dtype=uint8)"
      ]
     },
     "execution_count": 6,
     "metadata": {},
     "output_type": "execute_result"
    }
   ],
   "source": [
    "#photo==photo[:,:,:]\n",
    "photo[:,:,:]"
   ]
  },
  {
   "cell_type": "code",
   "execution_count": 7,
   "id": "7719389d",
   "metadata": {},
   "outputs": [],
   "source": [
    "R=photo[:,:,2:3]+50"
   ]
  },
  {
   "cell_type": "code",
   "execution_count": 8,
   "id": "3e048909",
   "metadata": {},
   "outputs": [],
   "source": [
    "photo[:,:,0:2]=0"
   ]
  },
  {
   "cell_type": "code",
   "execution_count": 9,
   "id": "05706e84",
   "metadata": {},
   "outputs": [
    {
     "data": {
      "text/plain": [
       "array([[[  0,   0,  80],\n",
       "        [  0,   0,  81],\n",
       "        [  0,   0,  84],\n",
       "        ...,\n",
       "        [  0,   0, 119],\n",
       "        [  0,   0, 124],\n",
       "        [  0,   0, 124]],\n",
       "\n",
       "       [[  0,   0,  81],\n",
       "        [  0,   0,  82],\n",
       "        [  0,   0,  83],\n",
       "        ...,\n",
       "        [  0,   0, 114],\n",
       "        [  0,   0, 120],\n",
       "        [  0,   0, 118]],\n",
       "\n",
       "       [[  0,   0,  85],\n",
       "        [  0,   0,  84],\n",
       "        [  0,   0,  84],\n",
       "        ...,\n",
       "        [  0,   0, 113],\n",
       "        [  0,   0, 119],\n",
       "        [  0,   0, 117]],\n",
       "\n",
       "       ...,\n",
       "\n",
       "       [[  0,   0,  31],\n",
       "        [  0,   0,  32],\n",
       "        [  0,   0,  32],\n",
       "        ...,\n",
       "        [  0,   0,  24],\n",
       "        [  0,   0,  28],\n",
       "        [  0,   0,  26]],\n",
       "\n",
       "       [[  0,   0,  31],\n",
       "        [  0,   0,  31],\n",
       "        [  0,   0,  32],\n",
       "        ...,\n",
       "        [  0,   0,  19],\n",
       "        [  0,   0,  24],\n",
       "        [  0,   0,  24]],\n",
       "\n",
       "       [[  0,   0,  30],\n",
       "        [  0,   0,  31],\n",
       "        [  0,   0,  32],\n",
       "        ...,\n",
       "        [  0,   0,  15],\n",
       "        [  0,   0,  17],\n",
       "        [  0,   0,  21]]], dtype=uint8)"
      ]
     },
     "execution_count": 9,
     "metadata": {},
     "output_type": "execute_result"
    }
   ],
   "source": [
    "photo"
   ]
  },
  {
   "cell_type": "code",
   "execution_count": 10,
   "id": "809cd484",
   "metadata": {},
   "outputs": [],
   "source": [
    "cv2.imshow(\"any name you can give\",photo)\n",
    "cv2.waitKey()\n",
    "cv2.destroyAllWindows()"
   ]
  },
  {
   "cell_type": "code",
   "execution_count": 11,
   "id": "3e06f30d",
   "metadata": {},
   "outputs": [
    {
     "data": {
      "text/plain": [
       "array([[[ 80],\n",
       "        [ 81],\n",
       "        [ 84],\n",
       "        ...,\n",
       "        [119],\n",
       "        [124],\n",
       "        [124]],\n",
       "\n",
       "       [[ 81],\n",
       "        [ 82],\n",
       "        [ 83],\n",
       "        ...,\n",
       "        [114],\n",
       "        [120],\n",
       "        [118]],\n",
       "\n",
       "       [[ 85],\n",
       "        [ 84],\n",
       "        [ 84],\n",
       "        ...,\n",
       "        [113],\n",
       "        [119],\n",
       "        [117]],\n",
       "\n",
       "       ...,\n",
       "\n",
       "       [[ 31],\n",
       "        [ 32],\n",
       "        [ 32],\n",
       "        ...,\n",
       "        [ 24],\n",
       "        [ 28],\n",
       "        [ 26]],\n",
       "\n",
       "       [[ 31],\n",
       "        [ 31],\n",
       "        [ 32],\n",
       "        ...,\n",
       "        [ 19],\n",
       "        [ 24],\n",
       "        [ 24]],\n",
       "\n",
       "       [[ 30],\n",
       "        [ 31],\n",
       "        [ 32],\n",
       "        ...,\n",
       "        [ 15],\n",
       "        [ 17],\n",
       "        [ 21]]], dtype=uint8)"
      ]
     },
     "execution_count": 11,
     "metadata": {},
     "output_type": "execute_result"
    }
   ],
   "source": [
    "photo[:,:,2:3]"
   ]
  },
  {
   "cell_type": "code",
   "execution_count": 12,
   "id": "665e7b24",
   "metadata": {},
   "outputs": [
    {
     "data": {
      "text/plain": [
       "array([[[  0,   0,  80],\n",
       "        [  0,   0,  81],\n",
       "        [  0,   0,  84],\n",
       "        ...,\n",
       "        [  0,   0, 119],\n",
       "        [  0,   0, 124],\n",
       "        [  0,   0, 124]],\n",
       "\n",
       "       [[  0,   0,  81],\n",
       "        [  0,   0,  82],\n",
       "        [  0,   0,  83],\n",
       "        ...,\n",
       "        [  0,   0, 114],\n",
       "        [  0,   0, 120],\n",
       "        [  0,   0, 118]],\n",
       "\n",
       "       [[  0,   0,  85],\n",
       "        [  0,   0,  84],\n",
       "        [  0,   0,  84],\n",
       "        ...,\n",
       "        [  0,   0, 113],\n",
       "        [  0,   0, 119],\n",
       "        [  0,   0, 117]],\n",
       "\n",
       "       ...,\n",
       "\n",
       "       [[  0,   0,  31],\n",
       "        [  0,   0,  32],\n",
       "        [  0,   0,  32],\n",
       "        ...,\n",
       "        [  0,   0,  24],\n",
       "        [  0,   0,  28],\n",
       "        [  0,   0,  26]],\n",
       "\n",
       "       [[  0,   0,  31],\n",
       "        [  0,   0,  31],\n",
       "        [  0,   0,  32],\n",
       "        ...,\n",
       "        [  0,   0,  19],\n",
       "        [  0,   0,  24],\n",
       "        [  0,   0,  24]],\n",
       "\n",
       "       [[  0,   0,  30],\n",
       "        [  0,   0,  31],\n",
       "        [  0,   0,  32],\n",
       "        ...,\n",
       "        [  0,   0,  15],\n",
       "        [  0,   0,  17],\n",
       "        [  0,   0,  21]]], dtype=uint8)"
      ]
     },
     "execution_count": 12,
     "metadata": {},
     "output_type": "execute_result"
    }
   ],
   "source": [
    "photo"
   ]
  },
  {
   "cell_type": "code",
   "execution_count": 13,
   "id": "848e2a1f",
   "metadata": {},
   "outputs": [],
   "source": [
    "photo[:,:,2:3]=R"
   ]
  },
  {
   "cell_type": "code",
   "execution_count": 14,
   "id": "9c43b3e4",
   "metadata": {},
   "outputs": [
    {
     "data": {
      "text/plain": [
       "array([[[130],\n",
       "        [131],\n",
       "        [134],\n",
       "        ...,\n",
       "        [169],\n",
       "        [174],\n",
       "        [174]],\n",
       "\n",
       "       [[131],\n",
       "        [132],\n",
       "        [133],\n",
       "        ...,\n",
       "        [164],\n",
       "        [170],\n",
       "        [168]],\n",
       "\n",
       "       [[135],\n",
       "        [134],\n",
       "        [134],\n",
       "        ...,\n",
       "        [163],\n",
       "        [169],\n",
       "        [167]],\n",
       "\n",
       "       ...,\n",
       "\n",
       "       [[ 81],\n",
       "        [ 82],\n",
       "        [ 82],\n",
       "        ...,\n",
       "        [ 74],\n",
       "        [ 78],\n",
       "        [ 76]],\n",
       "\n",
       "       [[ 81],\n",
       "        [ 81],\n",
       "        [ 82],\n",
       "        ...,\n",
       "        [ 69],\n",
       "        [ 74],\n",
       "        [ 74]],\n",
       "\n",
       "       [[ 80],\n",
       "        [ 81],\n",
       "        [ 82],\n",
       "        ...,\n",
       "        [ 65],\n",
       "        [ 67],\n",
       "        [ 71]]], dtype=uint8)"
      ]
     },
     "execution_count": 14,
     "metadata": {},
     "output_type": "execute_result"
    }
   ],
   "source": [
    "photo[:,:,2:3]"
   ]
  },
  {
   "cell_type": "code",
   "execution_count": 15,
   "id": "0ad29b5e",
   "metadata": {},
   "outputs": [],
   "source": [
    "cv2.imshow(\"any name you can give\",photo)\n",
    "cv2.waitKey()\n",
    "cv2.destroyAllWindows()"
   ]
  },
  {
   "cell_type": "code",
   "execution_count": 16,
   "id": "990cf122",
   "metadata": {},
   "outputs": [
    {
     "data": {
      "text/plain": [
       "(480, 640, 3)"
      ]
     },
     "execution_count": 16,
     "metadata": {},
     "output_type": "execute_result"
    }
   ],
   "source": [
    "photo.shape"
   ]
  },
  {
   "cell_type": "code",
   "execution_count": 17,
   "id": "98c98599",
   "metadata": {},
   "outputs": [],
   "source": [
    "nphoto=photo[:400,:500]"
   ]
  },
  {
   "cell_type": "code",
   "execution_count": 18,
   "id": "b724ea12",
   "metadata": {},
   "outputs": [],
   "source": [
    "cv2.imshow(\"any name you can give\",photo)\n",
    "cv2.waitKey()\n",
    "cv2.destroyAllWindows()"
   ]
  },
  {
   "cell_type": "code",
   "execution_count": 19,
   "id": "6662418d",
   "metadata": {},
   "outputs": [
    {
     "data": {
      "text/plain": [
       "(400, 500, 3)"
      ]
     },
     "execution_count": 19,
     "metadata": {},
     "output_type": "execute_result"
    }
   ],
   "source": [
    "nphoto.shape"
   ]
  },
  {
   "cell_type": "code",
   "execution_count": 20,
   "id": "3cf5528a",
   "metadata": {},
   "outputs": [],
   "source": [
    "blur_photo=cv2.blur(photo,(15,15))"
   ]
  },
  {
   "cell_type": "code",
   "execution_count": 21,
   "id": "30ee60b5",
   "metadata": {},
   "outputs": [],
   "source": [
    "cv2.imshow(\"any name you can give\",blur_photo)\n",
    "cv2.waitKey()\n",
    "cv2.destroyAllWindows()"
   ]
  },
  {
   "cell_type": "code",
   "execution_count": 22,
   "id": "7f494803",
   "metadata": {},
   "outputs": [],
   "source": [
    "while True:\n",
    "    ret,photo=cap.read()\n",
    "    blur_photo=cv2.blur(photo,(15,15))\n",
    "    cv2.imshow(\"hii\",blur_photo)\n",
    "    if cv2.waitKey(17)==13:\n",
    "        break\n",
    "        \n",
    "cv2.destroyAllWindows()"
   ]
  },
  {
   "cell_type": "code",
   "execution_count": 23,
   "id": "641d7d55",
   "metadata": {},
   "outputs": [],
   "source": [
    " model=cv2.CascadeClassifier(\"haarcascade_frontalface_default.xml\")"
   ]
  },
  {
   "cell_type": "code",
   "execution_count": 24,
   "id": "315adfd2",
   "metadata": {},
   "outputs": [],
   "source": [
    "output=model.detectMultiScale(photo)"
   ]
  },
  {
   "cell_type": "code",
   "execution_count": 25,
   "id": "5071fd67",
   "metadata": {},
   "outputs": [
    {
     "data": {
      "text/plain": [
       "array([[315, 144, 198, 198]])"
      ]
     },
     "execution_count": 25,
     "metadata": {},
     "output_type": "execute_result"
    }
   ],
   "source": [
    "output"
   ]
  },
  {
   "cell_type": "code",
   "execution_count": 26,
   "id": "ff5be7c2",
   "metadata": {},
   "outputs": [],
   "source": [
    "#photo[:,:,:1] "
   ]
  },
  {
   "cell_type": "code",
   "execution_count": 27,
   "id": "639d520d",
   "metadata": {},
   "outputs": [],
   "source": [
    "x1=output[0][0]"
   ]
  },
  {
   "cell_type": "code",
   "execution_count": 28,
   "id": "8495d86a",
   "metadata": {},
   "outputs": [
    {
     "data": {
      "text/plain": [
       "315"
      ]
     },
     "execution_count": 28,
     "metadata": {},
     "output_type": "execute_result"
    }
   ],
   "source": [
    "x1"
   ]
  },
  {
   "cell_type": "code",
   "execution_count": 29,
   "id": "68efbd01",
   "metadata": {},
   "outputs": [
    {
     "data": {
      "text/plain": [
       "array([[315, 144, 198, 198]])"
      ]
     },
     "execution_count": 29,
     "metadata": {},
     "output_type": "execute_result"
    }
   ],
   "source": [
    "output"
   ]
  },
  {
   "cell_type": "code",
   "execution_count": 30,
   "id": "878a9cfd",
   "metadata": {},
   "outputs": [],
   "source": [
    "y1=output[0][1]"
   ]
  },
  {
   "cell_type": "code",
   "execution_count": 31,
   "id": "314d7842",
   "metadata": {},
   "outputs": [],
   "source": [
    "x2=output[0][2]+x1"
   ]
  },
  {
   "cell_type": "code",
   "execution_count": 32,
   "id": "62bd9b9b",
   "metadata": {},
   "outputs": [],
   "source": [
    "y2=output[0][3]+y1"
   ]
  },
  {
   "cell_type": "code",
   "execution_count": 33,
   "id": "a2e07c54",
   "metadata": {},
   "outputs": [],
   "source": [
    "rec_photo=cv2.rectangle(photo,(x1,y1),(x2,y2),[0,255,0],5)"
   ]
  },
  {
   "cell_type": "code",
   "execution_count": 34,
   "id": "392e9f7e",
   "metadata": {},
   "outputs": [],
   "source": [
    "cv2.imshow(\"any name you can give\",rec_photo)\n",
    "cv2.waitKey()\n",
    "cv2.destroyAllWindows()"
   ]
  },
  {
   "cell_type": "code",
   "execution_count": 35,
   "id": "46f9de34",
   "metadata": {},
   "outputs": [
    {
     "name": "stdout",
     "output_type": "stream",
     "text": [
      "no face found\n"
     ]
    }
   ],
   "source": [
    "while True:\n",
    "    ret,photo=cap.read()\n",
    "    model=cv2.CascadeClassifier(\"haarcascade_frontalface_default.xml\")\n",
    "    output=model.detectMultiScale(photo)\n",
    "    if len(output)==0:\n",
    "        print(\"no face found\")\n",
    "    else:    \n",
    "        x1=output[0][0]\n",
    "        y1=output[0][1]\n",
    "        x2=output[0][2]+x1\n",
    "        y2=output[0][3]+y1\n",
    "        rec_photo=cv2.rectangle(photo,(x1,y1),(x2,y2),[0,255,0],5)\n",
    "        cv2.imshow(\"hii\",rec_photo)\n",
    "        if cv2.waitKey(17)==13:\n",
    "            break\n",
    "\n",
    "cv2.destroyAllWindows()"
   ]
  },
  {
   "cell_type": "code",
   "execution_count": 36,
   "id": "5375d2cf",
   "metadata": {},
   "outputs": [
    {
     "name": "stdout",
     "output_type": "stream",
     "text": [
      "no face found\n",
      "no face found\n",
      "no face found\n",
      "no face found\n",
      "no face found\n"
     ]
    }
   ],
   "source": [
    "while True:\n",
    "    ret,photo=cap.read()\n",
    "    model=cv2.CascadeClassifier(\"haarcascade_frontalface_default.xml\")\n",
    "    output=model.detectMultiScale(photo)\n",
    "    if len(output)==0:\n",
    "        print(\"no face found\")\n",
    "    else:    \n",
    "        x1=output[0][0]\n",
    "        y1=output[0][1]\n",
    "        x2=output[0][2]+x1\n",
    "        y2=output[0][3]+y1\n",
    "        #rec_photo=cv2.rectangle(photo,(x1,y1),(x2,y2),[0,255,0],5)\n",
    "        crop_photo=photo[y1:y2,x1:x2]\n",
    "        cv2.imshow(\"hii\",crop_photo)\n",
    "        if cv2.waitKey(17)==13:\n",
    "            break\n",
    "\n",
    "cv2.destroyAllWindows()\n",
    "cap.release()"
   ]
  },
  {
   "cell_type": "code",
   "execution_count": 37,
   "id": "49a819eb",
   "metadata": {},
   "outputs": [],
   "source": [
    "cap.release()"
   ]
  },
  {
   "cell_type": "code",
   "execution_count": null,
   "id": "44f00af4",
   "metadata": {},
   "outputs": [],
   "source": []
  }
 ],
 "metadata": {
  "kernelspec": {
   "display_name": "Python 3 (ipykernel)",
   "language": "python",
   "name": "python3"
  },
  "language_info": {
   "codemirror_mode": {
    "name": "ipython",
    "version": 3
   },
   "file_extension": ".py",
   "mimetype": "text/x-python",
   "name": "python",
   "nbconvert_exporter": "python",
   "pygments_lexer": "ipython3",
   "version": "3.9.12"
  }
 },
 "nbformat": 4,
 "nbformat_minor": 5
}
